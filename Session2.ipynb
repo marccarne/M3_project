{
 "cells": [
  {
   "cell_type": "code",
   "execution_count": 4,
   "metadata": {
    "collapsed": false
   },
   "outputs": [
    {
     "ename": "NameError",
     "evalue": "name 'read_data' is not defined",
     "output_type": "error",
     "traceback": [
      "\u001b[0;31m---------------------------------------------------------------------------\u001b[0m",
      "\u001b[0;31mNameError\u001b[0m                                 Traceback (most recent call last)",
      "\u001b[0;32m<ipython-input-4-8c28530772a3>\u001b[0m in \u001b[0;36m<module>\u001b[0;34m()\u001b[0m\n\u001b[1;32m     14\u001b[0m \u001b[1;31m# read the train and test files\u001b[0m\u001b[1;33m\u001b[0m\u001b[1;33m\u001b[0m\u001b[0m\n\u001b[1;32m     15\u001b[0m \u001b[1;33m\u001b[0m\u001b[0m\n\u001b[0;32m---> 16\u001b[0;31m \u001b[0mtrain_images_filenames\u001b[0m\u001b[1;33m,\u001b[0m \u001b[0mtrain_labels\u001b[0m\u001b[1;33m,\u001b[0m \u001b[0mtest_images_filenames\u001b[0m\u001b[1;33m,\u001b[0m \u001b[0mtest_labels\u001b[0m \u001b[1;33m=\u001b[0m \u001b[0mread_data\u001b[0m\u001b[1;33m(\u001b[0m\u001b[1;34m'train_images_filenames.dat'\u001b[0m\u001b[1;33m,\u001b[0m \u001b[1;34m'train_labels.dat'\u001b[0m\u001b[1;33m,\u001b[0m \u001b[1;34m'test_images_filenames.dat'\u001b[0m\u001b[1;33m,\u001b[0m \u001b[1;34m'test_labels.dat'\u001b[0m\u001b[1;33m)\u001b[0m\u001b[1;33m\u001b[0m\u001b[0m\n\u001b[0m\u001b[1;32m     17\u001b[0m \u001b[1;33m\u001b[0m\u001b[0m\n\u001b[1;32m     18\u001b[0m \u001b[1;31m# create the SIFT detector object\u001b[0m\u001b[1;33m\u001b[0m\u001b[1;33m\u001b[0m\u001b[0m\n",
      "\u001b[0;31mNameError\u001b[0m: name 'read_data' is not defined"
     ]
    }
   ],
   "source": [
    "def core(k):\n",
    "\n",
    "import cv2\n",
    "import numpy as np\n",
    "import cPickle\n",
    "import time\n",
    "from sklearn.preprocessing import StandardScaler\n",
    "from sklearn import svm\n",
    "from sklearn import cluster\n",
    "\n",
    "\n",
    "start = time.time()\n",
    "\n",
    "# read the train and test files\n",
    "\n",
    "train_images_filenames, train_labels, test_images_filenames, test_labels = read_data('train_images_filenames.dat', 'train_labels.dat', 'test_images_filenames.dat', 'test_labels.dat')\n",
    "\n",
    "# create the SIFT detector object\n",
    "\n",
    "detector = cv2.SIFT(nfeatures=100)\n",
    "\n",
    "# read the just 30 train images per class\n",
    "# extract SIFT keypoints and descriptors\n",
    "# store descriptors in a python list of numpy arrays\n",
    "Train_descriptors, Train_label_per_descriptor = extract_train_features(train_images_filenames, train_labels, detector)\n",
    "\n",
    "#as default k=512\n",
    "codebook = compute_codebook(\"codebook.dat\", Train_descriptors, k= 50)\n",
    "\n",
    "\n",
    "visual_words = BoW(codebook, Train_descriptors)\n",
    "\n",
    "# Train a linear SVM classifier\n",
    "\n",
    "clf, stdSlr = train_SVM(visual_words, train_labels)\n",
    "\n",
    "accuracy = evaluate_test(test_images_filenames, test_labels, codebook, stdSlr)\n",
    "print 'Final accuracy: ' + str(accuracy)\n",
    "\n",
    "end=time.time()\n",
    "print 'Done in '+str(end-start)+' secs.'\n",
    "\n",
    "return\n",
    "## 49.56% in 285 secs."
   ]
  },
  {
   "cell_type": "code",
   "execution_count": null,
   "metadata": {
    "collapsed": true
   },
   "outputs": [],
   "source": [
    "def read_data(train_files, train_labels, test_files, test_labels):\n",
    "    \n",
    "    train_images_filenames = cPickle.load(open(train_files,'r'))\n",
    "    test_images_filenames = cPickle.load(open(test_files,'r'))\n",
    "    train_labels = cPickle.load(open(train_labels,'r'))\n",
    "    test_labels = cPickle.load(open(test_labels,'r'))\n",
    "\n",
    "    print 'Loaded '+str(len(train_images_filenames))+' training images filenames with classes ',set(train_labels)\n",
    "    print 'Loaded '+str(len(test_images_filenames))+' testing images filenames with classes ',set(test_labels)\n",
    "    \n",
    "    return (train_images_filenames, train_labels, test_images_filenames, test_labels)\n"
   ]
  },
  {
   "cell_type": "code",
   "execution_count": null,
   "metadata": {
    "collapsed": true
   },
   "outputs": [],
   "source": [
    "def extract_train_features(train_images_filenames, train_labels, detector):\n",
    "        \n",
    "    Train_descriptors = []\n",
    "    Train_label_per_descriptor = []\n",
    "\n",
    "    for i in range(len(train_images_filenames)):\n",
    "        \n",
    "        kpt,des= compute_feature(train_images_filenames[i], detector)\n",
    "        \n",
    "        Train_descriptors.append(des)\n",
    "        Train_label_per_descriptor.append(train_labels[i])\n",
    "        print str(len(kpt))+' extracted keypoints and descriptors'\n",
    "\n",
    "\n",
    "    return (Train_descriptors, Train_label_per_descriptor)\n"
   ]
  },
  {
   "cell_type": "code",
   "execution_count": null,
   "metadata": {
    "collapsed": false
   },
   "outputs": [],
   "source": [
    "def compute_codebook(codebook_name, Train_descriptors, k=512):\n",
    "\n",
    "    # Transform everything to numpy arrays\n",
    "    size_descriptors=Train_descriptors[0].shape[1]\n",
    "    D=np.zeros((np.sum([len(p) for p in Train_descriptors]),size_descriptors),dtype=np.uint8)\n",
    "    startingpoint=0\n",
    "    for i in range(len(Train_descriptors)):\n",
    "        D[startingpoint:startingpoint+len(Train_descriptors[i])]=Train_descriptors[i]\n",
    "        startingpoint+=len(Train_descriptors[i])\n",
    "        \n",
    "    print 'Computing kmeans with '+str(k)+' centroids'\n",
    "    init=time.time()\n",
    "    codebook = cluster.MiniBatchKMeans(n_clusters=k, verbose=False, batch_size=k * 20,compute_labels=False,reassignment_ratio=10**-4)\n",
    "    codebook.fit(D)\n",
    "    cPickle.dump(codebook, open(codebook_name, \"wb\"))\n",
    "    end=time.time()\n",
    "    print 'Done in '+str(end-init)+' secs.'\n",
    "    return codebook"
   ]
  },
  {
   "cell_type": "code",
   "execution_count": null,
   "metadata": {
    "collapsed": true
   },
   "outputs": [],
   "source": [
    "def BoW(codebook, descriptors):\n",
    "    #cluster_centers_ : array, [n_clusters, n_features]\n",
    "    init=time.time()\n",
    "    #visual_words=np.zeros((len(descriptors),k),dtype=np.float32)\n",
    "    k = codebook.cluster_centers_.shape[0]\n",
    "    print k\n",
    "    visual_words=np.zeros((len(descriptors),k),dtype=np.float32)\n",
    "    for i in xrange(len(descriptors)):\n",
    "        words=codebook.predict(descriptors[i])\n",
    "        visual_words[i,:]=np.bincount(words,minlength=k)\n",
    "\n",
    "    end=time.time()\n",
    "    print 'Done in '+str(end-init)+' secs.'\n",
    "    \n",
    "    return visual_words\n"
   ]
  },
  {
   "cell_type": "code",
   "execution_count": null,
   "metadata": {
    "collapsed": false
   },
   "outputs": [],
   "source": [
    "def train_SVM(visual_words, train_labels, toStore= False, filename = \"\"):\n",
    "\n",
    "    stdSlr = StandardScaler().fit(visual_words)\n",
    "    D_scaled = stdSlr.transform(visual_words)\n",
    "    print 'Training the SVM classifier...'\n",
    "    clf = svm.SVC(kernel='linear', C=1).fit(D_scaled, train_labels)\n",
    "    print 'Done!'\n",
    "    \n",
    "    if toStore:\n",
    "        cPickle.dump(clf, open(filename, \"wb\"))\n",
    "    return clf, stdSlr"
   ]
  },
  {
   "cell_type": "code",
   "execution_count": null,
   "metadata": {
    "collapsed": true
   },
   "outputs": [],
   "source": [
    "def compute_feature(image_filename, detector):\n",
    "\n",
    "    print 'Reading image '+ image_filename\n",
    "    ima=cv2.imread(image_filename)\n",
    "    gray=cv2.cvtColor(ima,cv2.COLOR_BGR2GRAY)\n",
    "    kpt,des=detector.detectAndCompute(gray,None)\n",
    "    \n",
    "    return kpt,des\n",
    "        \n"
   ]
  },
  {
   "cell_type": "code",
   "execution_count": null,
   "metadata": {
    "collapsed": true
   },
   "outputs": [],
   "source": [
    "def evaluate_test(test_images_filenames, test_labels, codebook, stdSlr):\n",
    "    k = codebook.cluster_centers_.shape[0]\n",
    "    # get all the test data and predict their labels\n",
    "    visual_words_test=np.zeros((len(test_images_filenames), k),dtype=np.float32)\n",
    "    for i in range(len(test_images_filenames)):\n",
    "        #extract features for a single image\n",
    "        kpt,des= compute_feature(test_images_filenames[i], detector)\n",
    "        #extract VW for a single image\n",
    "        words=codebook.predict(des)\n",
    "        visual_words_test[i,:]=np.bincount(words,minlength=k)\n",
    "        \n",
    "    return 100*clf.score(stdSlr.transform(visual_words_test), test_labels)"
   ]
  },
  {
   "cell_type": "code",
   "execution_count": null,
   "metadata": {
    "collapsed": false
   },
   "outputs": [],
   "source": [
    "#Import libraries\n",
    "import cv2\n",
    "import numpy as np\n",
    "import cPickle\n",
    "import time\n",
    "from sklearn.preprocessing import StandardScaler\n",
    "from sklearn import svm\n",
    "from sklearn import cluster\n",
    "\n",
    "\n",
    "cbook_size_k = np.arange(64,2048,64)\n",
    "\n",
    "for i in range(len(cbook_size_k)):\n",
    "    print 'i='+str(i)+'.'\n",
    "    print cbook_size_k[i]\n",
    "    core(cbook_size_k[i])\n",
    "    \n",
    "\n",
    "print 'Overall finished'"
   ]
  },
  {
   "cell_type": "code",
   "execution_count": null,
   "metadata": {
    "collapsed": true
   },
   "outputs": [],
   "source": []
  }
 ],
 "metadata": {
  "anaconda-cloud": {},
  "kernelspec": {
   "display_name": "Python [default]",
   "language": "python",
   "name": "python2"
  },
  "language_info": {
   "codemirror_mode": {
    "name": "ipython",
    "version": 2
   },
   "file_extension": ".py",
   "mimetype": "text/x-python",
   "name": "python",
   "nbconvert_exporter": "python",
   "pygments_lexer": "ipython2",
   "version": "2.7.12"
  }
 },
 "nbformat": 4,
 "nbformat_minor": 0
}
